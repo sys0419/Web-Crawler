{
 "cells": [
  {
   "cell_type": "code",
   "execution_count": 74,
   "metadata": {},
   "outputs": [],
   "source": [
    "\n",
    "from urllib.request import urlopen\n",
    "from bs4 import BeautifulSoup\n",
    "html2 = urlopen(\"http://e-service.cwb.gov.tw/HistoryDataQuery/DayDataController.do?command=viewMain&station=467410&stname=%25E8%2587%25BA%25E5%258D%2597&datepicker=2018-09-24\")\n",
    "bsObj2 = BeautifulSoup(html2,'lxml')\n"
   ]
  },
  {
   "cell_type": "code",
   "execution_count": 157,
   "metadata": {
    "scrolled": false
   },
   "outputs": [],
   "source": [
    "a1 = bsObj2.find(\"table\",{\"id\":\"MyTable\"}).findAll(\"td\",{\"nowrap\":\"\"});"
   ]
  },
  {
   "cell_type": "code",
   "execution_count": 183,
   "metadata": {},
   "outputs": [
    {
     "name": "stdout",
     "output_type": "stream",
     "text": [
      "<td> </td>\n"
     ]
    }
   ],
   "source": [
    "print(a1[101])"
   ]
  },
  {
   "cell_type": "code",
   "execution_count": 170,
   "metadata": {},
   "outputs": [],
   "source": [
    "import numpy as np\n"
   ]
  },
  {
   "cell_type": "code",
   "execution_count": 22,
   "metadata": {},
   "outputs": [
    {
     "name": "stdout",
     "output_type": "stream",
     "text": [
      "\n",
      "$15.00\n",
      "\n"
     ]
    }
   ],
   "source": [
    "html = urlopen(\"http://www.pythonscraping.com/pages/page3.html\")\n",
    "bsObj = BeautifulSoup(html,'lxml')\n",
    "print(bsObj.find(\"img\",{\"src\":\"../img/gifts/img1.jpg\"}).parent.previous_sibling.get_text())"
   ]
  },
  {
   "cell_type": "code",
   "execution_count": 187,
   "metadata": {},
   "outputs": [],
   "source": [
    "he = []\n",
    "for e in a1:\n",
    "    hoo = e.string\n",
    "    hoe = OnlyNum(hoo)\n",
    "    he.append(hoe)\n",
    "    "
   ]
  },
  {
   "cell_type": "code",
   "execution_count": 198,
   "metadata": {},
   "outputs": [],
   "source": [
    "he = np.array(he)"
   ]
  },
  {
   "cell_type": "code",
   "execution_count": 203,
   "metadata": {},
   "outputs": [],
   "source": [
    "new = he.reshape(24,17)"
   ]
  },
  {
   "cell_type": "code",
   "execution_count": 204,
   "metadata": {},
   "outputs": [
    {
     "name": "stdout",
     "output_type": "stream",
     "text": [
      "[['01' '1008.2' '1011.3' '28.1' '26.3' '90' '2.4' '350' '5.4' '20' '0.0'\n",
      "  '0.0' '' '0.00' '' '0' '']\n",
      " ['02' '1006.9' '1010.0' '27.8' '25.4' '87' '2.2' '360' '5.3' '340' '0.0'\n",
      "  '0.0' '' '0.00' '3.0' '0' '5.0']\n",
      " ['03' '1006.3' '1009.4' '27.7' '24.9' '85' '1.9' '350' '3.1' '340' '0.0'\n",
      "  '0.0' '' '0.00' '' '0' '']\n",
      " ['04' '1006.2' '1009.3' '27.7' '24.8' '84' '1.4' '310' '3.2' '310' '0.0'\n",
      "  '0.0' '' '0.00' '' '0' '']\n",
      " ['05' '1006.5' '1009.6' '27.5' '24.6' '84' '2.3' '340' '5.0' '360' '0.0'\n",
      "  '0.0' '' '0.00' '4.0' '0' '8.0']\n",
      " ['06' '1007.0' '1010.1' '27.1' '24.1' '84' '1.8' '360' '6.4' '330' '0.0'\n",
      "  '0.0' '0.0' '0.00' '' '0' '']\n",
      " ['07' '1007.7' '1010.8' '27.2' '24.1' '83' '3.7' '330' '6.3' '350' '0.0'\n",
      "  '0.0' '0.0' '0.00' '' '0' '']\n",
      " ['08' '1008.0' '1011.1' '28.2' '24.0' '78' '3.3' '330' '6.3' '350' '0.0'\n",
      "  '0.0' '0.2' '0.58' '5.0' '1' '5.0']\n",
      " ['09' '1008.0' '1011.1' '28.4' '23.4' '74' '3.5' '340' '6.3' '350' '0.0'\n",
      "  '0.0' '0.1' '1.02' '9.0' '3' '6.0']\n",
      " ['10' '1007.2' '1010.2' '30.3' '23.7' '68' '3.9' '340' '7.6' '360' '0.0'\n",
      "  '0.0' '0.9' '2.48' '' '7' '4.0']\n",
      " ['11' '1006.6' '1009.6' '31.7' '23.1' '60' '4.0' '340' '7.6' '310' '0.0'\n",
      "  '0.0' '0.8' '2.70' '12.0' '9' '6.0']\n",
      " ['12' '1005.9' '1008.9' '32.0' '24.3' '64' '5.3' '310' '9.6' '320' '0.0'\n",
      "  '0.0' '0.8' '2.92' '' '10' '6.0']\n",
      " ['13' '1005.4' '1008.4' '32.4' '24.3' '62' '5.1' '310' '10.3' '290'\n",
      "  '0.0' '0.0' '1.0' '3.27' '' '11' '6.0']\n",
      " ['14' '1004.1' '1007.1' '32.2' '24.4' '64' '5.5' '310' '12.1' '320'\n",
      "  '0.0' '0.0' '0.9' '2.74' '12.0' '9' '6.0']\n",
      " ['15' '1003.8' '1006.8' '32.1' '23.9' '62' '6.0' '330' '12.7' '340'\n",
      "  '0.0' '0.0' '1.0' '2.49' '' '6' '6.0']\n",
      " ['16' '1003.7' '1006.7' '31.6' '23.7' '63' '4.6' '340' '11.7' '300'\n",
      "  '0.0' '0.0' '1.0' '1.69' '' '3' '6.0']\n",
      " ['17' '1003.9' '1006.9' '30.8' '23.3' '64' '5.2' '330' '9.8' '300' '0.0'\n",
      "  '0.0' '0.9' '0.87' '12.0' '1' '6.0']\n",
      " ['18' '1004.3' '1007.3' '29.3' '22.7' '68' '5.9' '350' '11.5' '350'\n",
      "  '0.0' '0.0' '0.3' '0.10' '' '0' '']\n",
      " ['19' '1004.7' '1007.8' '28.8' '22.5' '69' '4.2' '340' '10.1' '340'\n",
      "  '0.0' '0.0' '0.0' '0.00' '' '0' '']\n",
      " ['20' '1005.1' '1008.2' '28.3' '22.4' '70' '4.0' '340' '7.9' '360' '0.0'\n",
      "  '0.0' '' '0.00' '8.0' '0' '2.0']\n",
      " ['21' '1005.3' '1008.4' '28.3' '22.5' '71' '3.3' '340' '7.2' '310' '0.0'\n",
      "  '0.0' '' '0.00' '10.0' '0' '0.0']\n",
      " ['22' '1005.6' '1008.7' '28.3' '22.0' '69' '3.1' '350' '6.7' '360' '0.0'\n",
      "  '0.0' '' '0.00' '' '0' '']\n",
      " ['23' '1005.2' '1008.3' '27.7' '21.9' '71' '2.8' '350' '5.3' '350' '0.0'\n",
      "  '0.0' '' '0.00' '10.0' '0' '0.0']\n",
      " ['24' '1004.9' '1008.0' '27.4' '22.1' '73' '0.6' '20' '4.0' '360' '0.0'\n",
      "  '0.0' '' '0.00' '' '0' '']]\n"
     ]
    }
   ],
   "source": [
    "print(new)"
   ]
  },
  {
   "cell_type": "code",
   "execution_count": 186,
   "metadata": {},
   "outputs": [],
   "source": [
    "def OnlyNum(s,oth=''):\n",
    "    s2 = s.lower();\n",
    "    fomart = 'abcdefghijklmnopqrstuvwxyz0123456789.'\n",
    "    for c in s2:\n",
    "        if not c in fomart:\n",
    "            s = s.replace(c,'');\n",
    "    return s;\n"
   ]
  },
  {
   "cell_type": "code",
   "execution_count": 23,
   "metadata": {},
   "outputs": [],
   "source": [
    "y =bsObj.find(\"img\",{\"src\":\"../img/gifts/img1.jpg\"}).parent.previous_sibling.get_text()"
   ]
  },
  {
   "cell_type": "code",
   "execution_count": 31,
   "metadata": {},
   "outputs": [
    {
     "data": {
      "text/plain": [
       "'$15.00'"
      ]
     },
     "execution_count": 31,
     "metadata": {},
     "output_type": "execute_result"
    }
   ],
   "source": [
    "y.strip()"
   ]
  },
  {
   "cell_type": "code",
   "execution_count": 44,
   "metadata": {},
   "outputs": [
    {
     "name": "stdout",
     "output_type": "stream",
     "text": [
      "15.0\n"
     ]
    }
   ],
   "source": [
    "def OnlyNum(s,oth=''):\n",
    "    s2 = s.lower();\n",
    "    fomart = 'abcdefghijklmnopqrstuvwxyz0123456789.'\n",
    "    for c in s2:\n",
    "        if not c in fomart:\n",
    "            s = s.replace(c,'');\n",
    "    return s;\n",
    "\n",
    "ans = float(OnlyNum(y));\n",
    "print(ans)\n",
    "\n"
   ]
  },
  {
   "cell_type": "code",
   "execution_count": 52,
   "metadata": {},
   "outputs": [
    {
     "name": "stdout",
     "output_type": "stream",
     "text": [
      "\n",
      "Item Title\n",
      "\n",
      "Description\n",
      "\n",
      "Cost\n",
      "\n",
      "Image\n",
      "\n"
     ]
    }
   ],
   "source": [
    "html = urlopen(\"http://www.pythonscraping.com/pages/page3.html\")\n",
    "bsObj = BeautifulSoup(html,'lxml')\n",
    "print(bsObj.find(\"table\",{\"id\":\"giftList\"}).tr.get_text())"
   ]
  },
  {
   "cell_type": "code",
   "execution_count": 24,
   "metadata": {},
   "outputs": [
    {
     "name": "stdout",
     "output_type": "stream",
     "text": [
      "../img/gifts/img1.jpg\n",
      "../img/gifts/img2.jpg\n",
      "../img/gifts/img3.jpg\n",
      "../img/gifts/img4.jpg\n",
      "../img/gifts/img6.jpg\n"
     ]
    }
   ],
   "source": [
    "import re\n",
    "html = urlopen(\"http://www.pythonscraping.com/pages/page3.html\")\n",
    "bsObj = BeautifulSoup(html,\"lxml\")\n",
    "images = bsObj.findAll(\"img\", {\"src\":re.compile(\"\\.\\.\\/img\\/gifts/img.*\\.jpg\")})\n",
    "for image in images:\n",
    "    print(image[\"src\"])"
   ]
  },
  {
   "cell_type": "code",
   "execution_count": null,
   "metadata": {},
   "outputs": [],
   "source": []
  }
 ],
 "metadata": {
  "kernelspec": {
   "display_name": "Python 3",
   "language": "python",
   "name": "python3"
  },
  "language_info": {
   "codemirror_mode": {
    "name": "ipython",
    "version": 3
   },
   "file_extension": ".py",
   "mimetype": "text/x-python",
   "name": "python",
   "nbconvert_exporter": "python",
   "pygments_lexer": "ipython3",
   "version": "3.6.7"
  }
 },
 "nbformat": 4,
 "nbformat_minor": 2
}
